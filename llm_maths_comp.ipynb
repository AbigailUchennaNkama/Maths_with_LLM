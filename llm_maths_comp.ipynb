{
  "cells": [
    {
      "cell_type": "markdown",
      "id": "c86ebbeb-c070-45d4-99ef-de33b53d447d",
      "metadata": {
        "id": "c86ebbeb-c070-45d4-99ef-de33b53d447d"
      },
      "source": [
        "### Install and Import Necessary Libraries"
      ]
    },
    {
      "cell_type": "code",
      "execution_count": 1,
      "id": "v5gOKYkO3sI2",
      "metadata": {
        "colab": {
          "base_uri": "https://localhost:8080/"
        },
        "id": "v5gOKYkO3sI2",
        "outputId": "f4ccde4a-e80e-434b-d094-535a23438fe6"
      },
      "outputs": [],
      "source": [
        "# Install necessary packages\n",
        "! pip install -qU langchain-openai langchain openai"
      ]
    },
    {
      "cell_type": "code",
      "execution_count": 2,
      "id": "f7a0c7bd-512d-4e5b-ab43-1bc3b8c97fd4",
      "metadata": {
        "id": "f7a0c7bd-512d-4e5b-ab43-1bc3b8c97fd4"
      },
      "outputs": [],
      "source": [
        "import pandas as pd\n",
        "import getpass\n",
        "import os"
      ]
    },
    {
      "cell_type": "markdown",
      "id": "90E3nLng33Ct",
      "metadata": {
        "id": "90E3nLng33Ct"
      },
      "source": [
        "### Set up OpenAI API key"
      ]
    },
    {
      "cell_type": "code",
      "execution_count": 3,
      "id": "iPETn3V83rc3",
      "metadata": {
        "id": "iPETn3V83rc3"
      },
      "outputs": [],
      "source": [
        "def _get_env(var: str):\n",
        "    if not os.environ.get(var):\n",
        "        os.environ[var] = getpass.getpass(f\"{var}: \")\n",
        "\n",
        "_get_env(\"OPENAI_API_KEY\")\n"
      ]
    },
    {
      "cell_type": "markdown",
      "id": "tuOo27j1SDl3",
      "metadata": {
        "id": "tuOo27j1SDl3"
      },
      "source": [
        "#### Function to query the LLM"
      ]
    },
    {
      "cell_type": "code",
      "execution_count": 4,
      "id": "Ygbwy_IQXl0I",
      "metadata": {
        "id": "Ygbwy_IQXl0I"
      },
      "outputs": [],
      "source": [
        "from openai import OpenAI\n",
        "import json\n",
        "\n",
        "client = OpenAI()\n",
        "\n",
        "def get_answer(question, model):\n",
        "\n",
        "    prompt = f\"\"\"You are an expert in high school mathematics.\n",
        "    Please solve the following high school math problem step-by-step. Follow these guidelines:\n",
        "    1. Read the problem carefully and identify the key information.\n",
        "    2. Write out the given information and what needs to be found.\n",
        "    3. Choose the appropriate mathematical concept or formula to solve the problem.\n",
        "    4. Show each step of your calculation clearly, explaining your reasoning.\n",
        "    5. Double-check your calculations for accuracy.\n",
        "    6. Provide the final answer clearly.\n",
        "    7. Do not leave the final in fraction.\n",
        "    Here is the problem:\n",
        "    {question}\n",
        "    Step-by-step solution:\"\"\"\n",
        "\n",
        "    messages = [\n",
        "        {\n",
        "            \"role\": \"user\",\n",
        "            \"content\": [\n",
        "                {\n",
        "                    \"type\": \"text\",\n",
        "                    \"text\": prompt\n",
        "                }\n",
        "            ]\n",
        "        }\n",
        "    ]\n",
        "\n",
        "    try:\n",
        "        response = client.chat.completions.create(\n",
        "            model=model,\n",
        "            messages=messages\n",
        "        )\n",
        "        return response.choices[0].message.content\n",
        "    except Exception as e:\n",
        "        print(f\"An error occurred: {e}\")\n",
        "        return None"
      ]
    },
    {
      "cell_type": "markdown",
      "id": "sQoV28mwPMcY",
      "metadata": {
        "id": "sQoV28mwPMcY"
      },
      "source": [
        "#### Function to Extract Answer with"
      ]
    },
    {
      "cell_type": "code",
      "execution_count": 5,
      "id": "35CWYSJgPVNe",
      "metadata": {
        "id": "35CWYSJgPVNe"
      },
      "outputs": [],
      "source": [
        "import re\n",
        "\n",
        "def extract_numerical_answer(text):\n",
        "    # Look for patterns like \"Final answer: X\" or \"The answer is X\" at the end of the text\n",
        "    match = re.search(r'(?:final answer|the answer is)[:\\s]*([+-]?\\d*\\.?\\d+)', text, re.IGNORECASE)\n",
        "    if match:\n",
        "        return float(match.group(1))\n",
        "    else:\n",
        "        # If no clear final answer, look for the last number in the text\n",
        "        numbers = re.findall(r'[+-]?\\d*\\.?\\d+', text)\n",
        "        return float(numbers[-1]) if numbers else None"
      ]
    },
    {
      "cell_type": "code",
      "execution_count": 6,
      "id": "yVXMHm2b7yet",
      "metadata": {
        "id": "yVXMHm2b7yet"
      },
      "outputs": [],
      "source": [
        "def process_row(row, model):\n",
        "    problem_id = row['problem_id']\n",
        "    problem_text = row['problem_text']\n",
        "\n",
        "    llm_reasoning = get_answer(row, model)  # Changed to pass the entire row\n",
        "\n",
        "    numerical_answer = extract_numerical_answer(llm_reasoning)\n",
        "\n",
        "    return {\n",
        "        'problem_id': problem_id,\n",
        "        'problem_text': problem_text,\n",
        "        'llm_reasoning': llm_reasoning,\n",
        "        'answer': numerical_answer\n",
        "    }"
      ]
    },
    {
      "cell_type": "markdown",
      "id": "bbca849b-d271-4a9e-bc6e-1ab47af1bffe",
      "metadata": {
        "id": "bbca849b-d271-4a9e-bc6e-1ab47af1bffe"
      },
      "source": [
        "Using pool executor to make it faster (`max_workers=6`). This controls how many concurrent queries to be sent to OpenAI"
      ]
    },
    {
      "cell_type": "code",
      "execution_count": 7,
      "id": "17e8befe-4f9e-4342-8945-54b96a4c1678",
      "metadata": {
        "id": "17e8befe-4f9e-4342-8945-54b96a4c1678"
      },
      "outputs": [
        {
          "name": "stderr",
          "output_type": "stream",
          "text": [
            "/home/nkama/.pyenv/versions/3.10.6/envs/llmMath/lib/python3.10/site-packages/tqdm/auto.py:21: TqdmWarning: IProgress not found. Please update jupyter and ipywidgets. See https://ipywidgets.readthedocs.io/en/stable/user_install.html\n",
            "  from .autonotebook import tqdm as notebook_tqdm\n"
          ]
        }
      ],
      "source": [
        "from tqdm.auto import tqdm\n",
        "from concurrent.futures import ThreadPoolExecutor\n",
        "\n",
        "pool = ThreadPoolExecutor(max_workers=6)\n",
        "\n",
        "def map_progress(pool, seq, f, model):\n",
        "    results = []\n",
        "\n",
        "    with tqdm(total=len(seq)) as progress:\n",
        "        futures = []\n",
        "\n",
        "        for el in seq:\n",
        "            future = pool.submit(f, el, model)  # Added model parameter\n",
        "            future.add_done_callback(lambda p: progress.update())\n",
        "            futures.append(future)\n",
        "\n",
        "        for future in futures:\n",
        "            result = future.result()\n",
        "            results.append(result)\n",
        "\n",
        "    return results\n"
      ]
    },
    {
      "cell_type": "markdown",
      "id": "cc3d5c12-6c58-4d45-b8f5-299f84c1fbe3",
      "metadata": {
        "id": "cc3d5c12-6c58-4d45-b8f5-299f84c1fbe3"
      },
      "source": [
        "Now we create a function for processing each row:"
      ]
    },
    {
      "cell_type": "markdown",
      "id": "3eb90eaf-82aa-422a-85de-dd3769ac9723",
      "metadata": {
        "id": "3eb90eaf-82aa-422a-85de-dd3769ac9723"
      },
      "source": [
        "At this point, let's load the train data - so we can use it for evaluation our solution offline (without submitting to Kaggle):"
      ]
    },
    {
      "cell_type": "code",
      "execution_count": 8,
      "id": "DimbAMWpP6Dj",
      "metadata": {
        "colab": {
          "base_uri": "https://localhost:8080/",
          "height": 206
        },
        "id": "DimbAMWpP6Dj",
        "outputId": "7412b235-7488-4f3a-a4c8-5b1f2ad2e82e"
      },
      "outputs": [
        {
          "data": {
            "text/html": [
              "<div>\n",
              "<style scoped>\n",
              "    .dataframe tbody tr th:only-of-type {\n",
              "        vertical-align: middle;\n",
              "    }\n",
              "\n",
              "    .dataframe tbody tr th {\n",
              "        vertical-align: top;\n",
              "    }\n",
              "\n",
              "    .dataframe thead th {\n",
              "        text-align: right;\n",
              "    }\n",
              "</style>\n",
              "<table border=\"1\" class=\"dataframe\">\n",
              "  <thead>\n",
              "    <tr style=\"text-align: right;\">\n",
              "      <th></th>\n",
              "      <th>problem_id</th>\n",
              "      <th>problem_text</th>\n",
              "      <th>answer</th>\n",
              "    </tr>\n",
              "  </thead>\n",
              "  <tbody>\n",
              "    <tr>\n",
              "      <th>0</th>\n",
              "      <td>2374</td>\n",
              "      <td>Find the value of the expression $\\dfrac{17}{5...</td>\n",
              "      <td>1.6</td>\n",
              "    </tr>\n",
              "    <tr>\n",
              "      <th>1</th>\n",
              "      <td>4723</td>\n",
              "      <td>In a company of 30 people, 25 use the social n...</td>\n",
              "      <td>24</td>\n",
              "    </tr>\n",
              "    <tr>\n",
              "      <th>2</th>\n",
              "      <td>7135</td>\n",
              "      <td>The number of road traffic accidents (RTAs) in...</td>\n",
              "      <td>32</td>\n",
              "    </tr>\n",
              "    <tr>\n",
              "      <th>3</th>\n",
              "      <td>5814</td>\n",
              "      <td>Find the value of the expression $\\dfrac{2\\str...</td>\n",
              "      <td>256</td>\n",
              "    </tr>\n",
              "    <tr>\n",
              "      <th>4</th>\n",
              "      <td>9237</td>\n",
              "      <td>A traveler from Moscow wants to visit four cit...</td>\n",
              "      <td>53</td>\n",
              "    </tr>\n",
              "  </tbody>\n",
              "</table>\n",
              "</div>"
            ],
            "text/plain": [
              "   problem_id                                       problem_text answer\n",
              "0        2374  Find the value of the expression $\\dfrac{17}{5...    1.6\n",
              "1        4723  In a company of 30 people, 25 use the social n...     24\n",
              "2        7135  The number of road traffic accidents (RTAs) in...     32\n",
              "3        5814  Find the value of the expression $\\dfrac{2\\str...    256\n",
              "4        9237  A traveler from Moscow wants to visit four cit...     53"
            ]
          },
          "execution_count": 8,
          "metadata": {},
          "output_type": "execute_result"
        }
      ],
      "source": [
        "df_train = pd.read_csv('data/train.csv')\n",
        "df_train.head()"
      ]
    },
    {
      "cell_type": "code",
      "execution_count": 9,
      "id": "a694391e-a890-4507-816c-5cf118e90bce",
      "metadata": {
        "colab": {
          "base_uri": "https://localhost:8080/"
        },
        "id": "a694391e-a890-4507-816c-5cf118e90bce",
        "outputId": "3c54b5f8-8479-4304-93d2-98d1212e6881"
      },
      "outputs": [
        {
          "data": {
            "text/plain": [
              "{'problem_id': 2374,\n",
              " 'problem_text': 'Find the value of the expression $\\\\dfrac{17}{5} :\\\\dfrac{34}{3} +1.3$.',\n",
              " 'llm_reasoning': \"To solve the problem \\\\(\\\\dfrac{17}{5} \\\\div \\\\dfrac{34}{3} + 1.3\\\\), we need to follow these steps:\\n\\n### Step 1: Read the Problem Carefully\\nThe problem requires us to simplify the given expression \\\\(\\\\dfrac{17}{5} \\\\div \\\\dfrac{34}{3} + 1.3\\\\).\\n\\n### Step 2: Write Out the Given Information\\n- Given expression: \\\\(\\\\dfrac{17}{5} \\\\div \\\\dfrac{34}{3} + 1.3\\\\)\\n\\n### Step 3: Choose the Appropriate Mathematical Concept\\nWe need to:\\n1. Divide the fractions using:\\n   \\\\[\\n   \\\\frac{a}{b} \\\\div \\\\frac{c}{d} = \\\\frac{a}{b} \\\\times \\\\frac{d}{c}\\n   \\\\]\\n2. Add the result to 1.3.\\n\\n### Step 4: Show Each Step of Calculation Clearly\\n\\n#### Step 4.1: Division of Fractions\\nFirst, compute the division \\\\(\\\\dfrac{17}{5} \\\\div \\\\dfrac{34}{3}\\\\):\\n\\n\\\\[\\n\\\\dfrac{17}{5} \\\\div \\\\dfrac{34}{3} = \\\\dfrac{17}{5} \\\\times \\\\dfrac{3}{34}\\n\\\\]\\n\\nNext, multiply the fractions:\\n\\n\\\\[\\n\\\\dfrac{17 \\\\times 3}{5 \\\\times 34} = \\\\dfrac{51}{170}\\n\\\\]\\n\\nSimplify \\\\(\\\\dfrac{51}{170}\\\\):\\n- The greatest common divisor (GCD) of 51 and 170 is 17.\\n- Divide both the numerator and the denominator by 17:\\n\\n\\\\[\\n\\\\dfrac{51 \\\\div 17}{170 \\\\div 17} = \\\\dfrac{3}{10}\\n\\\\]\\n\\nSo, \\\\(\\\\dfrac{17}{5} \\\\div \\\\dfrac{34}{3} = \\\\dfrac{3}{10}\\\\).\\n\\n#### Step 4.2: Addition\\nNext, add 1.3 to \\\\(\\\\dfrac{3}{10}\\\\):\\n- Convert \\\\(\\\\dfrac{3}{10}\\\\) to a decimal:\\n\\n\\\\[\\n\\\\dfrac{3}{10} = 0.3\\n\\\\]\\n\\nNow, add 0.3 to 1.3:\\n\\n\\\\[\\n0.3 + 1.3 = 1.6\\n\\\\]\\n\\n### Step 5: Double-Check Your Calculations\\nLet's verify the calculations step-by-step:\\n- Dividing: \\\\(\\\\dfrac{17}{5} \\\\div \\\\dfrac{34}{3} = \\\\dfrac{17}{5} \\\\times \\\\dfrac{3}{34} = \\\\dfrac{51}{170} = \\\\dfrac{3}{10}\\\\)\\n- Adding the result: \\\\(0.3 + 1.3 = 1.6\\\\)\\n\\n### Step 6: Provide the Final Answer Clearly\\n\\nThe value of the expression \\\\(\\\\dfrac{17}{5} \\\\div \\\\dfrac{34}{3} + 1.3\\\\) is:\\n\\\\[\\n\\\\boxed{1.6}\\n\\\\]\",\n",
              " 'answer': 1.6}"
            ]
          },
          "execution_count": 9,
          "metadata": {},
          "output_type": "execute_result"
        }
      ],
      "source": [
        "rows = df_train.head().to_dict(orient='records')\n",
        "process_row(rows[0], 'gpt-4o')"
      ]
    },
    {
      "cell_type": "markdown",
      "id": "7a3da223-3af9-4703-a239-b103d4e5575e",
      "metadata": {
        "id": "7a3da223-3af9-4703-a239-b103d4e5575e"
      },
      "source": [
        "This is how we combine the two:"
      ]
    },
    {
      "cell_type": "code",
      "execution_count": 11,
      "id": "3ed7d5e0",
      "metadata": {},
      "outputs": [
        {
          "name": "stderr",
          "output_type": "stream",
          "text": [
            "100%|██████████| 5/5 [00:10<00:00,  2.10s/it]\n"
          ]
        },
        {
          "data": {
            "text/html": [
              "<div>\n",
              "<style scoped>\n",
              "    .dataframe tbody tr th:only-of-type {\n",
              "        vertical-align: middle;\n",
              "    }\n",
              "\n",
              "    .dataframe tbody tr th {\n",
              "        vertical-align: top;\n",
              "    }\n",
              "\n",
              "    .dataframe thead th {\n",
              "        text-align: right;\n",
              "    }\n",
              "</style>\n",
              "<table border=\"1\" class=\"dataframe\">\n",
              "  <thead>\n",
              "    <tr style=\"text-align: right;\">\n",
              "      <th></th>\n",
              "      <th>problem_id</th>\n",
              "      <th>problem_text</th>\n",
              "      <th>llm_reasoning</th>\n",
              "      <th>answer</th>\n",
              "    </tr>\n",
              "  </thead>\n",
              "  <tbody>\n",
              "    <tr>\n",
              "      <th>0</th>\n",
              "      <td>2374</td>\n",
              "      <td>Find the value of the expression $\\dfrac{17}{5...</td>\n",
              "      <td>Let’s follow the guidelines step-by-step to so...</td>\n",
              "      <td>1.6</td>\n",
              "    </tr>\n",
              "    <tr>\n",
              "      <th>1</th>\n",
              "      <td>4723</td>\n",
              "      <td>In a company of 30 people, 25 use the social n...</td>\n",
              "      <td>To solve the problem step-by-step, we'll analy...</td>\n",
              "      <td>24.0</td>\n",
              "    </tr>\n",
              "    <tr>\n",
              "      <th>2</th>\n",
              "      <td>7135</td>\n",
              "      <td>The number of road traffic accidents (RTAs) in...</td>\n",
              "      <td>Let's solve the problem step-by-step:\\n\\n### S...</td>\n",
              "      <td>32.0</td>\n",
              "    </tr>\n",
              "    <tr>\n",
              "      <th>3</th>\n",
              "      <td>5814</td>\n",
              "      <td>Find the value of the expression $\\dfrac{2\\str...</td>\n",
              "      <td>Let's solve the problem step-by-step.\\n\\n### S...</td>\n",
              "      <td>256.0</td>\n",
              "    </tr>\n",
              "    <tr>\n",
              "      <th>4</th>\n",
              "      <td>9237</td>\n",
              "      <td>A traveler from Moscow wants to visit four cit...</td>\n",
              "      <td>To solve the problem, let's follow the guideli...</td>\n",
              "      <td>3.0</td>\n",
              "    </tr>\n",
              "  </tbody>\n",
              "</table>\n",
              "</div>"
            ],
            "text/plain": [
              "   problem_id                                       problem_text  \\\n",
              "0        2374  Find the value of the expression $\\dfrac{17}{5...   \n",
              "1        4723  In a company of 30 people, 25 use the social n...   \n",
              "2        7135  The number of road traffic accidents (RTAs) in...   \n",
              "3        5814  Find the value of the expression $\\dfrac{2\\str...   \n",
              "4        9237  A traveler from Moscow wants to visit four cit...   \n",
              "\n",
              "                                       llm_reasoning  answer  \n",
              "0  Let’s follow the guidelines step-by-step to so...     1.6  \n",
              "1  To solve the problem step-by-step, we'll analy...    24.0  \n",
              "2  Let's solve the problem step-by-step:\\n\\n### S...    32.0  \n",
              "3  Let's solve the problem step-by-step.\\n\\n### S...   256.0  \n",
              "4  To solve the problem, let's follow the guideli...     3.0  "
            ]
          },
          "execution_count": 11,
          "metadata": {},
          "output_type": "execute_result"
        }
      ],
      "source": [
        "results = map_progress(pool, rows, process_row, \"gpt-4o-mini\")\n",
        "\n",
        "df_results = pd.DataFrame(results)\n",
        "df_results"
      ]
    },
    {
      "cell_type": "code",
      "execution_count": 12,
      "id": "4b5ae96e-31dc-49f3-a1eb-39497d235cd0",
      "metadata": {
        "colab": {
          "base_uri": "https://localhost:8080/"
        },
        "id": "4b5ae96e-31dc-49f3-a1eb-39497d235cd0",
        "outputId": "b6609376-95da-42e1-b4e0-c024b68e46ff"
      },
      "outputs": [
        {
          "data": {
            "text/plain": [
              "0.8"
            ]
          },
          "execution_count": 12,
          "metadata": {},
          "output_type": "execute_result"
        }
      ],
      "source": [
        "from accuracy import score\n",
        "score(df_train.head(), df_results, 'problem_id')"
      ]
    },
    {
      "cell_type": "markdown",
      "id": "a91fdfb6-ee87-401f-bdef-f9628d7fe4f0",
      "metadata": {
        "id": "a91fdfb6-ee87-401f-bdef-f9628d7fe4f0"
      },
      "source": [
        "Let's evaluate the answer on these 5 examples:"
      ]
    },
    {
      "cell_type": "code",
      "execution_count": 13,
      "id": "gVrSUBPfPrzk",
      "metadata": {
        "id": "gVrSUBPfPrzk"
      },
      "outputs": [],
      "source": [
        "def prepare_prompts_and_get_answers(df, model):\n",
        "    rows = df.to_dict(orient='records')\n",
        "    results = map_progress(pool, rows, process_row, model)\n",
        "    return pd.DataFrame(results)"
      ]
    },
    {
      "cell_type": "code",
      "execution_count": 14,
      "id": "8AnFw9YaSjyJ",
      "metadata": {
        "colab": {
          "base_uri": "https://localhost:8080/",
          "height": 336,
          "referenced_widgets": [
            "f92ba0f131654b2592c5ed0fb1c3dce6",
            "c683c8fabc474d4a96a3602b31c4c753",
            "848a5d5f48674d3d9d1257967c642652",
            "25b5cfc8466c4a288c70a08151322d5d",
            "fec264864dfb4c6090075f12d4d3bc44",
            "5891615af2d24cca877ad10fc2149df9",
            "b0d755c791cb480986fc736d8b92b8f4",
            "294fca54d85f42d0abb79c7832cecafc",
            "fe1dc01b41434e11bfe4dfa101fb3eff",
            "d49daa46732a4977a7cd63c4d89ccd27",
            "19898ebefe0b4bf9aacae9b61fdf6221"
          ]
        },
        "id": "8AnFw9YaSjyJ",
        "outputId": "7bdf3d6a-882a-482c-fe97-fbcb68faa6b9"
      },
      "outputs": [
        {
          "name": "stderr",
          "output_type": "stream",
          "text": [
            "  0%|          | 0/100 [00:00<?, ?it/s]"
          ]
        },
        {
          "name": "stderr",
          "output_type": "stream",
          "text": [
            "100%|██████████| 100/100 [01:54<00:00,  1.54s/it]"
          ]
        },
        {
          "name": "stderr",
          "output_type": "stream",
          "text": [
            "100%|██████████| 100/100 [02:14<00:00,  1.35s/it]\n"
          ]
        },
        {
          "data": {
            "text/html": [
              "<div>\n",
              "<style scoped>\n",
              "    .dataframe tbody tr th:only-of-type {\n",
              "        vertical-align: middle;\n",
              "    }\n",
              "\n",
              "    .dataframe tbody tr th {\n",
              "        vertical-align: top;\n",
              "    }\n",
              "\n",
              "    .dataframe thead th {\n",
              "        text-align: right;\n",
              "    }\n",
              "</style>\n",
              "<table border=\"1\" class=\"dataframe\">\n",
              "  <thead>\n",
              "    <tr style=\"text-align: right;\">\n",
              "      <th></th>\n",
              "      <th>problem_id</th>\n",
              "      <th>problem_text</th>\n",
              "      <th>llm_reasoning</th>\n",
              "      <th>answer</th>\n",
              "    </tr>\n",
              "  </thead>\n",
              "  <tbody>\n",
              "    <tr>\n",
              "      <th>0</th>\n",
              "      <td>2374</td>\n",
              "      <td>Find the value of the expression $\\dfrac{17}{5...</td>\n",
              "      <td>Let's solve the problem step-by-step.\\n\\n### S...</td>\n",
              "      <td>1.6</td>\n",
              "    </tr>\n",
              "    <tr>\n",
              "      <th>1</th>\n",
              "      <td>4723</td>\n",
              "      <td>In a company of 30 people, 25 use the social n...</td>\n",
              "      <td>To solve the problem, let’s go through it step...</td>\n",
              "      <td>24.0</td>\n",
              "    </tr>\n",
              "    <tr>\n",
              "      <th>2</th>\n",
              "      <td>7135</td>\n",
              "      <td>The number of road traffic accidents (RTAs) in...</td>\n",
              "      <td>Let's solve the problem step-by-step following...</td>\n",
              "      <td>32.0</td>\n",
              "    </tr>\n",
              "    <tr>\n",
              "      <th>3</th>\n",
              "      <td>5814</td>\n",
              "      <td>Find the value of the expression $\\dfrac{2\\str...</td>\n",
              "      <td>Let's solve the given problem step-by-step.\\n\\...</td>\n",
              "      <td>256.0</td>\n",
              "    </tr>\n",
              "    <tr>\n",
              "      <th>4</th>\n",
              "      <td>9237</td>\n",
              "      <td>A traveler from Moscow wants to visit four cit...</td>\n",
              "      <td>To solve this problem, we need to find a combi...</td>\n",
              "      <td>53.0</td>\n",
              "    </tr>\n",
              "  </tbody>\n",
              "</table>\n",
              "</div>"
            ],
            "text/plain": [
              "   problem_id                                       problem_text  \\\n",
              "0        2374  Find the value of the expression $\\dfrac{17}{5...   \n",
              "1        4723  In a company of 30 people, 25 use the social n...   \n",
              "2        7135  The number of road traffic accidents (RTAs) in...   \n",
              "3        5814  Find the value of the expression $\\dfrac{2\\str...   \n",
              "4        9237  A traveler from Moscow wants to visit four cit...   \n",
              "\n",
              "                                       llm_reasoning  answer  \n",
              "0  Let's solve the problem step-by-step.\\n\\n### S...     1.6  \n",
              "1  To solve the problem, let’s go through it step...    24.0  \n",
              "2  Let's solve the problem step-by-step following...    32.0  \n",
              "3  Let's solve the given problem step-by-step.\\n\\...   256.0  \n",
              "4  To solve this problem, we need to find a combi...    53.0  "
            ]
          },
          "execution_count": 14,
          "metadata": {},
          "output_type": "execute_result"
        }
      ],
      "source": [
        "df_train_results = prepare_prompts_and_get_answers(df_train, \"gpt-4o-mini\")\n",
        "df_train_results.head()"
      ]
    },
    {
      "cell_type": "code",
      "execution_count": 15,
      "id": "f8983d04-d11c-4052-bcb4-09c59b5d77f0",
      "metadata": {
        "colab": {
          "base_uri": "https://localhost:8080/"
        },
        "id": "f8983d04-d11c-4052-bcb4-09c59b5d77f0",
        "outputId": "00478a6a-3bc1-4d80-ca59-72724c11e325"
      },
      "outputs": [
        {
          "data": {
            "text/plain": [
              "0.94"
            ]
          },
          "execution_count": 15,
          "metadata": {},
          "output_type": "execute_result"
        }
      ],
      "source": [
        "score(df_train, df_train_results, 'problem_id')"
      ]
    },
    {
      "cell_type": "markdown",
      "id": "e2e6e020-0fdf-413c-9779-20ef99725ee3",
      "metadata": {
        "id": "e2e6e020-0fdf-413c-9779-20ef99725ee3"
      },
      "source": [
        "## Preparing the test submission"
      ]
    },
    {
      "cell_type": "code",
      "execution_count": 18,
      "id": "WV8oslsxRUhX",
      "metadata": {
        "colab": {
          "base_uri": "https://localhost:8080/",
          "height": 49,
          "referenced_widgets": [
            "8acbb4a03c874de88a7a985ef675e269",
            "829f665298754372962a37ae72cfb065",
            "f9320f10157343dbb17682a523d1e95f",
            "8f0c2733d065413fab27dfd7679ac692",
            "3274ec0ffe054d209cd57c02beb763e1",
            "709e4243da4b4afcb9a2e476c5f8c5b4",
            "b5d84fc983c84ddfb78fd1bd9e9d16a5",
            "af9d5938430145cc8388e5d7c8f9c481",
            "54c4735e9fb2493782e0bca3de9f208e",
            "caf1c19d53914317b66a6fbb657c66a0",
            "61e128fab8ca49ce9abc0ca720abc08c"
          ]
        },
        "id": "WV8oslsxRUhX",
        "outputId": "aa2a6a63-830a-413e-bd0e-4a1a9507b712"
      },
      "outputs": [
        {
          "name": "stderr",
          "output_type": "stream",
          "text": [
            "100%|██████████| 100/100 [01:54<00:00,  1.15s/it]\n"
          ]
        },
        {
          "name": "stderr",
          "output_type": "stream",
          "text": [
            " 99%|█████████▉| 99/100 [01:52<00:01,  1.10s/it]"
          ]
        }
      ],
      "source": [
        "df_test = pd.read_csv('data/test.csv')\n",
        "\n",
        "df_test_results = prepare_prompts_and_get_answers(df_test, \"gpt-4o-mini\")\n",
        "\n",
        "submission = df_test_results[['problem_id', 'answer']]\n",
        "submission.to_csv('starter_notebook_submission.csv', index=False)"
      ]
    },
    {
      "cell_type": "code",
      "execution_count": 21,
      "id": "cc212ddf",
      "metadata": {},
      "outputs": [
        {
          "data": {
            "text/html": [
              "<div>\n",
              "<style scoped>\n",
              "    .dataframe tbody tr th:only-of-type {\n",
              "        vertical-align: middle;\n",
              "    }\n",
              "\n",
              "    .dataframe tbody tr th {\n",
              "        vertical-align: top;\n",
              "    }\n",
              "\n",
              "    .dataframe thead th {\n",
              "        text-align: right;\n",
              "    }\n",
              "</style>\n",
              "<table border=\"1\" class=\"dataframe\">\n",
              "  <thead>\n",
              "    <tr style=\"text-align: right;\">\n",
              "      <th></th>\n",
              "      <th>problem_id</th>\n",
              "      <th>problem_text</th>\n",
              "      <th>llm_reasoning</th>\n",
              "      <th>answer</th>\n",
              "    </tr>\n",
              "  </thead>\n",
              "  <tbody>\n",
              "    <tr>\n",
              "      <th>0</th>\n",
              "      <td>11919</td>\n",
              "      <td>Find the value of the expression \\(4.8 \\cdot 2...</td>\n",
              "      <td>Let's solve the problem step-by-step following...</td>\n",
              "      <td>12.0</td>\n",
              "    </tr>\n",
              "    <tr>\n",
              "      <th>1</th>\n",
              "      <td>8513</td>\n",
              "      <td>The plane's navigation system informs the pass...</td>\n",
              "      <td>Let's solve the problem step-by-step:\\n\\n### S...</td>\n",
              "      <td>315.0</td>\n",
              "    </tr>\n",
              "    <tr>\n",
              "      <th>2</th>\n",
              "      <td>7887</td>\n",
              "      <td>The volume of a rectangular parallelepiped is ...</td>\n",
              "      <td>Let's break down the problem step-by-step:\\n\\n...</td>\n",
              "      <td>4.0</td>\n",
              "    </tr>\n",
              "    <tr>\n",
              "      <th>3</th>\n",
              "      <td>5272</td>\n",
              "      <td>Find the root of the equation: $\\left(\\dfrac{1...</td>\n",
              "      <td>To solve the equation \\(\\left(\\dfrac{1}{8}\\rig...</td>\n",
              "      <td>6.0</td>\n",
              "    </tr>\n",
              "    <tr>\n",
              "      <th>4</th>\n",
              "      <td>8295</td>\n",
              "      <td>At the school, there are two-person camping te...</td>\n",
              "      <td>To solve the problem step-by-step, let's follo...</td>\n",
              "      <td>13.0</td>\n",
              "    </tr>\n",
              "  </tbody>\n",
              "</table>\n",
              "</div>"
            ],
            "text/plain": [
              "   problem_id                                       problem_text  \\\n",
              "0       11919  Find the value of the expression \\(4.8 \\cdot 2...   \n",
              "1        8513  The plane's navigation system informs the pass...   \n",
              "2        7887  The volume of a rectangular parallelepiped is ...   \n",
              "3        5272  Find the root of the equation: $\\left(\\dfrac{1...   \n",
              "4        8295  At the school, there are two-person camping te...   \n",
              "\n",
              "                                       llm_reasoning  answer  \n",
              "0  Let's solve the problem step-by-step following...    12.0  \n",
              "1  Let's solve the problem step-by-step:\\n\\n### S...   315.0  \n",
              "2  Let's break down the problem step-by-step:\\n\\n...     4.0  \n",
              "3  To solve the equation \\(\\left(\\dfrac{1}{8}\\rig...     6.0  \n",
              "4  To solve the problem step-by-step, let's follo...    13.0  "
            ]
          },
          "execution_count": 21,
          "metadata": {},
          "output_type": "execute_result"
        }
      ],
      "source": [
        "df_test_results.head()"
      ]
    },
    {
      "cell_type": "code",
      "execution_count": 22,
      "id": "7ed193a9",
      "metadata": {},
      "outputs": [
        {
          "data": {
            "text/html": [
              "<div>\n",
              "<style scoped>\n",
              "    .dataframe tbody tr th:only-of-type {\n",
              "        vertical-align: middle;\n",
              "    }\n",
              "\n",
              "    .dataframe tbody tr th {\n",
              "        vertical-align: top;\n",
              "    }\n",
              "\n",
              "    .dataframe thead th {\n",
              "        text-align: right;\n",
              "    }\n",
              "</style>\n",
              "<table border=\"1\" class=\"dataframe\">\n",
              "  <thead>\n",
              "    <tr style=\"text-align: right;\">\n",
              "      <th></th>\n",
              "      <th>problem_id</th>\n",
              "      <th>answer</th>\n",
              "    </tr>\n",
              "  </thead>\n",
              "  <tbody>\n",
              "    <tr>\n",
              "      <th>0</th>\n",
              "      <td>11919</td>\n",
              "      <td>12.0</td>\n",
              "    </tr>\n",
              "    <tr>\n",
              "      <th>1</th>\n",
              "      <td>8513</td>\n",
              "      <td>315.0</td>\n",
              "    </tr>\n",
              "    <tr>\n",
              "      <th>2</th>\n",
              "      <td>7887</td>\n",
              "      <td>4.0</td>\n",
              "    </tr>\n",
              "    <tr>\n",
              "      <th>3</th>\n",
              "      <td>5272</td>\n",
              "      <td>6.0</td>\n",
              "    </tr>\n",
              "    <tr>\n",
              "      <th>4</th>\n",
              "      <td>8295</td>\n",
              "      <td>13.0</td>\n",
              "    </tr>\n",
              "  </tbody>\n",
              "</table>\n",
              "</div>"
            ],
            "text/plain": [
              "   problem_id  answer\n",
              "0       11919    12.0\n",
              "1        8513   315.0\n",
              "2        7887     4.0\n",
              "3        5272     6.0\n",
              "4        8295    13.0"
            ]
          },
          "execution_count": 22,
          "metadata": {},
          "output_type": "execute_result"
        }
      ],
      "source": [
        "submission.head()"
      ]
    },
    {
      "cell_type": "code",
      "execution_count": null,
      "id": "02ea28c5-1042-4b98-9219-498ec56f597f",
      "metadata": {
        "id": "02ea28c5-1042-4b98-9219-498ec56f597f"
      },
      "outputs": [],
      "source": [
        "# Close the pool after use\n",
        "#pool.shutdown()"
      ]
    }
  ],
  "metadata": {
    "colab": {
      "provenance": []
    },
    "kernelspec": {
      "display_name": "Python 3",
      "name": "python3"
    },
    "language_info": {
      "codemirror_mode": {
        "name": "ipython",
        "version": 3
      },
      "file_extension": ".py",
      "mimetype": "text/x-python",
      "name": "python",
      "nbconvert_exporter": "python",
      "pygments_lexer": "ipython3",
      "version": "3.10.6"
    },
    "widgets": {
      "application/vnd.jupyter.widget-state+json": {
        "0144d1386ddf4ef4b13773d3588dc2d2": {
          "model_module": "@jupyter-widgets/controls",
          "model_module_version": "1.5.0",
          "model_name": "HBoxModel",
          "state": {
            "_dom_classes": [],
            "_model_module": "@jupyter-widgets/controls",
            "_model_module_version": "1.5.0",
            "_model_name": "HBoxModel",
            "_view_count": null,
            "_view_module": "@jupyter-widgets/controls",
            "_view_module_version": "1.5.0",
            "_view_name": "HBoxView",
            "box_style": "",
            "children": [
              "IPY_MODEL_02cf7f6482fe4be299a628f21fcd500e",
              "IPY_MODEL_0ed486f57f2643b4937a5adfc4956d55",
              "IPY_MODEL_e13cdf111d244a8b8bef08a9c32e44c3"
            ],
            "layout": "IPY_MODEL_6cae18bc632c49b88324edd5d0e84205"
          }
        },
        "02cf7f6482fe4be299a628f21fcd500e": {
          "model_module": "@jupyter-widgets/controls",
          "model_module_version": "1.5.0",
          "model_name": "HTMLModel",
          "state": {
            "_dom_classes": [],
            "_model_module": "@jupyter-widgets/controls",
            "_model_module_version": "1.5.0",
            "_model_name": "HTMLModel",
            "_view_count": null,
            "_view_module": "@jupyter-widgets/controls",
            "_view_module_version": "1.5.0",
            "_view_name": "HTMLView",
            "description": "",
            "description_tooltip": null,
            "layout": "IPY_MODEL_b622d362d2024cef8537300471b4d796",
            "placeholder": "​",
            "style": "IPY_MODEL_eb195a305b5a4cebb226da3535108656",
            "value": "  0%"
          }
        },
        "0ed486f57f2643b4937a5adfc4956d55": {
          "model_module": "@jupyter-widgets/controls",
          "model_module_version": "1.5.0",
          "model_name": "FloatProgressModel",
          "state": {
            "_dom_classes": [],
            "_model_module": "@jupyter-widgets/controls",
            "_model_module_version": "1.5.0",
            "_model_name": "FloatProgressModel",
            "_view_count": null,
            "_view_module": "@jupyter-widgets/controls",
            "_view_module_version": "1.5.0",
            "_view_name": "ProgressView",
            "bar_style": "danger",
            "description": "",
            "description_tooltip": null,
            "layout": "IPY_MODEL_65353b2ecc364babb9cbd99f37483313",
            "max": 5,
            "min": 0,
            "orientation": "horizontal",
            "style": "IPY_MODEL_2223113d1b7a4c9ab147f0cda3cf09ba",
            "value": 0
          }
        },
        "19898ebefe0b4bf9aacae9b61fdf6221": {
          "model_module": "@jupyter-widgets/controls",
          "model_module_version": "1.5.0",
          "model_name": "DescriptionStyleModel",
          "state": {
            "_model_module": "@jupyter-widgets/controls",
            "_model_module_version": "1.5.0",
            "_model_name": "DescriptionStyleModel",
            "_view_count": null,
            "_view_module": "@jupyter-widgets/base",
            "_view_module_version": "1.2.0",
            "_view_name": "StyleView",
            "description_width": ""
          }
        },
        "2223113d1b7a4c9ab147f0cda3cf09ba": {
          "model_module": "@jupyter-widgets/controls",
          "model_module_version": "1.5.0",
          "model_name": "ProgressStyleModel",
          "state": {
            "_model_module": "@jupyter-widgets/controls",
            "_model_module_version": "1.5.0",
            "_model_name": "ProgressStyleModel",
            "_view_count": null,
            "_view_module": "@jupyter-widgets/base",
            "_view_module_version": "1.2.0",
            "_view_name": "StyleView",
            "bar_color": null,
            "description_width": ""
          }
        },
        "25b5cfc8466c4a288c70a08151322d5d": {
          "model_module": "@jupyter-widgets/controls",
          "model_module_version": "1.5.0",
          "model_name": "HTMLModel",
          "state": {
            "_dom_classes": [],
            "_model_module": "@jupyter-widgets/controls",
            "_model_module_version": "1.5.0",
            "_model_name": "HTMLModel",
            "_view_count": null,
            "_view_module": "@jupyter-widgets/controls",
            "_view_module_version": "1.5.0",
            "_view_name": "HTMLView",
            "description": "",
            "description_tooltip": null,
            "layout": "IPY_MODEL_d49daa46732a4977a7cd63c4d89ccd27",
            "placeholder": "​",
            "style": "IPY_MODEL_19898ebefe0b4bf9aacae9b61fdf6221",
            "value": " 0/100 [00:00&lt;?, ?it/s]"
          }
        },
        "294fca54d85f42d0abb79c7832cecafc": {
          "model_module": "@jupyter-widgets/base",
          "model_module_version": "1.2.0",
          "model_name": "LayoutModel",
          "state": {
            "_model_module": "@jupyter-widgets/base",
            "_model_module_version": "1.2.0",
            "_model_name": "LayoutModel",
            "_view_count": null,
            "_view_module": "@jupyter-widgets/base",
            "_view_module_version": "1.2.0",
            "_view_name": "LayoutView",
            "align_content": null,
            "align_items": null,
            "align_self": null,
            "border": null,
            "bottom": null,
            "display": null,
            "flex": null,
            "flex_flow": null,
            "grid_area": null,
            "grid_auto_columns": null,
            "grid_auto_flow": null,
            "grid_auto_rows": null,
            "grid_column": null,
            "grid_gap": null,
            "grid_row": null,
            "grid_template_areas": null,
            "grid_template_columns": null,
            "grid_template_rows": null,
            "height": null,
            "justify_content": null,
            "justify_items": null,
            "left": null,
            "margin": null,
            "max_height": null,
            "max_width": null,
            "min_height": null,
            "min_width": null,
            "object_fit": null,
            "object_position": null,
            "order": null,
            "overflow": null,
            "overflow_x": null,
            "overflow_y": null,
            "padding": null,
            "right": null,
            "top": null,
            "visibility": null,
            "width": null
          }
        },
        "3274ec0ffe054d209cd57c02beb763e1": {
          "model_module": "@jupyter-widgets/base",
          "model_module_version": "1.2.0",
          "model_name": "LayoutModel",
          "state": {
            "_model_module": "@jupyter-widgets/base",
            "_model_module_version": "1.2.0",
            "_model_name": "LayoutModel",
            "_view_count": null,
            "_view_module": "@jupyter-widgets/base",
            "_view_module_version": "1.2.0",
            "_view_name": "LayoutView",
            "align_content": null,
            "align_items": null,
            "align_self": null,
            "border": null,
            "bottom": null,
            "display": null,
            "flex": null,
            "flex_flow": null,
            "grid_area": null,
            "grid_auto_columns": null,
            "grid_auto_flow": null,
            "grid_auto_rows": null,
            "grid_column": null,
            "grid_gap": null,
            "grid_row": null,
            "grid_template_areas": null,
            "grid_template_columns": null,
            "grid_template_rows": null,
            "height": null,
            "justify_content": null,
            "justify_items": null,
            "left": null,
            "margin": null,
            "max_height": null,
            "max_width": null,
            "min_height": null,
            "min_width": null,
            "object_fit": null,
            "object_position": null,
            "order": null,
            "overflow": null,
            "overflow_x": null,
            "overflow_y": null,
            "padding": null,
            "right": null,
            "top": null,
            "visibility": null,
            "width": null
          }
        },
        "54c4735e9fb2493782e0bca3de9f208e": {
          "model_module": "@jupyter-widgets/controls",
          "model_module_version": "1.5.0",
          "model_name": "ProgressStyleModel",
          "state": {
            "_model_module": "@jupyter-widgets/controls",
            "_model_module_version": "1.5.0",
            "_model_name": "ProgressStyleModel",
            "_view_count": null,
            "_view_module": "@jupyter-widgets/base",
            "_view_module_version": "1.2.0",
            "_view_name": "StyleView",
            "bar_color": null,
            "description_width": ""
          }
        },
        "5891615af2d24cca877ad10fc2149df9": {
          "model_module": "@jupyter-widgets/base",
          "model_module_version": "1.2.0",
          "model_name": "LayoutModel",
          "state": {
            "_model_module": "@jupyter-widgets/base",
            "_model_module_version": "1.2.0",
            "_model_name": "LayoutModel",
            "_view_count": null,
            "_view_module": "@jupyter-widgets/base",
            "_view_module_version": "1.2.0",
            "_view_name": "LayoutView",
            "align_content": null,
            "align_items": null,
            "align_self": null,
            "border": null,
            "bottom": null,
            "display": null,
            "flex": null,
            "flex_flow": null,
            "grid_area": null,
            "grid_auto_columns": null,
            "grid_auto_flow": null,
            "grid_auto_rows": null,
            "grid_column": null,
            "grid_gap": null,
            "grid_row": null,
            "grid_template_areas": null,
            "grid_template_columns": null,
            "grid_template_rows": null,
            "height": null,
            "justify_content": null,
            "justify_items": null,
            "left": null,
            "margin": null,
            "max_height": null,
            "max_width": null,
            "min_height": null,
            "min_width": null,
            "object_fit": null,
            "object_position": null,
            "order": null,
            "overflow": null,
            "overflow_x": null,
            "overflow_y": null,
            "padding": null,
            "right": null,
            "top": null,
            "visibility": null,
            "width": null
          }
        },
        "61e128fab8ca49ce9abc0ca720abc08c": {
          "model_module": "@jupyter-widgets/controls",
          "model_module_version": "1.5.0",
          "model_name": "DescriptionStyleModel",
          "state": {
            "_model_module": "@jupyter-widgets/controls",
            "_model_module_version": "1.5.0",
            "_model_name": "DescriptionStyleModel",
            "_view_count": null,
            "_view_module": "@jupyter-widgets/base",
            "_view_module_version": "1.2.0",
            "_view_name": "StyleView",
            "description_width": ""
          }
        },
        "65353b2ecc364babb9cbd99f37483313": {
          "model_module": "@jupyter-widgets/base",
          "model_module_version": "1.2.0",
          "model_name": "LayoutModel",
          "state": {
            "_model_module": "@jupyter-widgets/base",
            "_model_module_version": "1.2.0",
            "_model_name": "LayoutModel",
            "_view_count": null,
            "_view_module": "@jupyter-widgets/base",
            "_view_module_version": "1.2.0",
            "_view_name": "LayoutView",
            "align_content": null,
            "align_items": null,
            "align_self": null,
            "border": null,
            "bottom": null,
            "display": null,
            "flex": null,
            "flex_flow": null,
            "grid_area": null,
            "grid_auto_columns": null,
            "grid_auto_flow": null,
            "grid_auto_rows": null,
            "grid_column": null,
            "grid_gap": null,
            "grid_row": null,
            "grid_template_areas": null,
            "grid_template_columns": null,
            "grid_template_rows": null,
            "height": null,
            "justify_content": null,
            "justify_items": null,
            "left": null,
            "margin": null,
            "max_height": null,
            "max_width": null,
            "min_height": null,
            "min_width": null,
            "object_fit": null,
            "object_position": null,
            "order": null,
            "overflow": null,
            "overflow_x": null,
            "overflow_y": null,
            "padding": null,
            "right": null,
            "top": null,
            "visibility": null,
            "width": null
          }
        },
        "6cae18bc632c49b88324edd5d0e84205": {
          "model_module": "@jupyter-widgets/base",
          "model_module_version": "1.2.0",
          "model_name": "LayoutModel",
          "state": {
            "_model_module": "@jupyter-widgets/base",
            "_model_module_version": "1.2.0",
            "_model_name": "LayoutModel",
            "_view_count": null,
            "_view_module": "@jupyter-widgets/base",
            "_view_module_version": "1.2.0",
            "_view_name": "LayoutView",
            "align_content": null,
            "align_items": null,
            "align_self": null,
            "border": null,
            "bottom": null,
            "display": null,
            "flex": null,
            "flex_flow": null,
            "grid_area": null,
            "grid_auto_columns": null,
            "grid_auto_flow": null,
            "grid_auto_rows": null,
            "grid_column": null,
            "grid_gap": null,
            "grid_row": null,
            "grid_template_areas": null,
            "grid_template_columns": null,
            "grid_template_rows": null,
            "height": null,
            "justify_content": null,
            "justify_items": null,
            "left": null,
            "margin": null,
            "max_height": null,
            "max_width": null,
            "min_height": null,
            "min_width": null,
            "object_fit": null,
            "object_position": null,
            "order": null,
            "overflow": null,
            "overflow_x": null,
            "overflow_y": null,
            "padding": null,
            "right": null,
            "top": null,
            "visibility": null,
            "width": null
          }
        },
        "709e4243da4b4afcb9a2e476c5f8c5b4": {
          "model_module": "@jupyter-widgets/base",
          "model_module_version": "1.2.0",
          "model_name": "LayoutModel",
          "state": {
            "_model_module": "@jupyter-widgets/base",
            "_model_module_version": "1.2.0",
            "_model_name": "LayoutModel",
            "_view_count": null,
            "_view_module": "@jupyter-widgets/base",
            "_view_module_version": "1.2.0",
            "_view_name": "LayoutView",
            "align_content": null,
            "align_items": null,
            "align_self": null,
            "border": null,
            "bottom": null,
            "display": null,
            "flex": null,
            "flex_flow": null,
            "grid_area": null,
            "grid_auto_columns": null,
            "grid_auto_flow": null,
            "grid_auto_rows": null,
            "grid_column": null,
            "grid_gap": null,
            "grid_row": null,
            "grid_template_areas": null,
            "grid_template_columns": null,
            "grid_template_rows": null,
            "height": null,
            "justify_content": null,
            "justify_items": null,
            "left": null,
            "margin": null,
            "max_height": null,
            "max_width": null,
            "min_height": null,
            "min_width": null,
            "object_fit": null,
            "object_position": null,
            "order": null,
            "overflow": null,
            "overflow_x": null,
            "overflow_y": null,
            "padding": null,
            "right": null,
            "top": null,
            "visibility": null,
            "width": null
          }
        },
        "829f665298754372962a37ae72cfb065": {
          "model_module": "@jupyter-widgets/controls",
          "model_module_version": "1.5.0",
          "model_name": "HTMLModel",
          "state": {
            "_dom_classes": [],
            "_model_module": "@jupyter-widgets/controls",
            "_model_module_version": "1.5.0",
            "_model_name": "HTMLModel",
            "_view_count": null,
            "_view_module": "@jupyter-widgets/controls",
            "_view_module_version": "1.5.0",
            "_view_name": "HTMLView",
            "description": "",
            "description_tooltip": null,
            "layout": "IPY_MODEL_709e4243da4b4afcb9a2e476c5f8c5b4",
            "placeholder": "​",
            "style": "IPY_MODEL_b5d84fc983c84ddfb78fd1bd9e9d16a5",
            "value": "100%"
          }
        },
        "848a5d5f48674d3d9d1257967c642652": {
          "model_module": "@jupyter-widgets/controls",
          "model_module_version": "1.5.0",
          "model_name": "FloatProgressModel",
          "state": {
            "_dom_classes": [],
            "_model_module": "@jupyter-widgets/controls",
            "_model_module_version": "1.5.0",
            "_model_name": "FloatProgressModel",
            "_view_count": null,
            "_view_module": "@jupyter-widgets/controls",
            "_view_module_version": "1.5.0",
            "_view_name": "ProgressView",
            "bar_style": "danger",
            "description": "",
            "description_tooltip": null,
            "layout": "IPY_MODEL_294fca54d85f42d0abb79c7832cecafc",
            "max": 100,
            "min": 0,
            "orientation": "horizontal",
            "style": "IPY_MODEL_fe1dc01b41434e11bfe4dfa101fb3eff",
            "value": 0
          }
        },
        "8acbb4a03c874de88a7a985ef675e269": {
          "model_module": "@jupyter-widgets/controls",
          "model_module_version": "1.5.0",
          "model_name": "HBoxModel",
          "state": {
            "_dom_classes": [],
            "_model_module": "@jupyter-widgets/controls",
            "_model_module_version": "1.5.0",
            "_model_name": "HBoxModel",
            "_view_count": null,
            "_view_module": "@jupyter-widgets/controls",
            "_view_module_version": "1.5.0",
            "_view_name": "HBoxView",
            "box_style": "",
            "children": [
              "IPY_MODEL_829f665298754372962a37ae72cfb065",
              "IPY_MODEL_f9320f10157343dbb17682a523d1e95f",
              "IPY_MODEL_8f0c2733d065413fab27dfd7679ac692"
            ],
            "layout": "IPY_MODEL_3274ec0ffe054d209cd57c02beb763e1"
          }
        },
        "8c312a4027a247b683a1bba75db04ec8": {
          "model_module": "@jupyter-widgets/controls",
          "model_module_version": "1.5.0",
          "model_name": "DescriptionStyleModel",
          "state": {
            "_model_module": "@jupyter-widgets/controls",
            "_model_module_version": "1.5.0",
            "_model_name": "DescriptionStyleModel",
            "_view_count": null,
            "_view_module": "@jupyter-widgets/base",
            "_view_module_version": "1.2.0",
            "_view_name": "StyleView",
            "description_width": ""
          }
        },
        "8f0c2733d065413fab27dfd7679ac692": {
          "model_module": "@jupyter-widgets/controls",
          "model_module_version": "1.5.0",
          "model_name": "HTMLModel",
          "state": {
            "_dom_classes": [],
            "_model_module": "@jupyter-widgets/controls",
            "_model_module_version": "1.5.0",
            "_model_name": "HTMLModel",
            "_view_count": null,
            "_view_module": "@jupyter-widgets/controls",
            "_view_module_version": "1.5.0",
            "_view_name": "HTMLView",
            "description": "",
            "description_tooltip": null,
            "layout": "IPY_MODEL_caf1c19d53914317b66a6fbb657c66a0",
            "placeholder": "​",
            "style": "IPY_MODEL_61e128fab8ca49ce9abc0ca720abc08c",
            "value": " 100/100 [00:55&lt;00:00,  2.25it/s]"
          }
        },
        "af9d5938430145cc8388e5d7c8f9c481": {
          "model_module": "@jupyter-widgets/base",
          "model_module_version": "1.2.0",
          "model_name": "LayoutModel",
          "state": {
            "_model_module": "@jupyter-widgets/base",
            "_model_module_version": "1.2.0",
            "_model_name": "LayoutModel",
            "_view_count": null,
            "_view_module": "@jupyter-widgets/base",
            "_view_module_version": "1.2.0",
            "_view_name": "LayoutView",
            "align_content": null,
            "align_items": null,
            "align_self": null,
            "border": null,
            "bottom": null,
            "display": null,
            "flex": null,
            "flex_flow": null,
            "grid_area": null,
            "grid_auto_columns": null,
            "grid_auto_flow": null,
            "grid_auto_rows": null,
            "grid_column": null,
            "grid_gap": null,
            "grid_row": null,
            "grid_template_areas": null,
            "grid_template_columns": null,
            "grid_template_rows": null,
            "height": null,
            "justify_content": null,
            "justify_items": null,
            "left": null,
            "margin": null,
            "max_height": null,
            "max_width": null,
            "min_height": null,
            "min_width": null,
            "object_fit": null,
            "object_position": null,
            "order": null,
            "overflow": null,
            "overflow_x": null,
            "overflow_y": null,
            "padding": null,
            "right": null,
            "top": null,
            "visibility": null,
            "width": null
          }
        },
        "b0d755c791cb480986fc736d8b92b8f4": {
          "model_module": "@jupyter-widgets/controls",
          "model_module_version": "1.5.0",
          "model_name": "DescriptionStyleModel",
          "state": {
            "_model_module": "@jupyter-widgets/controls",
            "_model_module_version": "1.5.0",
            "_model_name": "DescriptionStyleModel",
            "_view_count": null,
            "_view_module": "@jupyter-widgets/base",
            "_view_module_version": "1.2.0",
            "_view_name": "StyleView",
            "description_width": ""
          }
        },
        "b5d84fc983c84ddfb78fd1bd9e9d16a5": {
          "model_module": "@jupyter-widgets/controls",
          "model_module_version": "1.5.0",
          "model_name": "DescriptionStyleModel",
          "state": {
            "_model_module": "@jupyter-widgets/controls",
            "_model_module_version": "1.5.0",
            "_model_name": "DescriptionStyleModel",
            "_view_count": null,
            "_view_module": "@jupyter-widgets/base",
            "_view_module_version": "1.2.0",
            "_view_name": "StyleView",
            "description_width": ""
          }
        },
        "b622d362d2024cef8537300471b4d796": {
          "model_module": "@jupyter-widgets/base",
          "model_module_version": "1.2.0",
          "model_name": "LayoutModel",
          "state": {
            "_model_module": "@jupyter-widgets/base",
            "_model_module_version": "1.2.0",
            "_model_name": "LayoutModel",
            "_view_count": null,
            "_view_module": "@jupyter-widgets/base",
            "_view_module_version": "1.2.0",
            "_view_name": "LayoutView",
            "align_content": null,
            "align_items": null,
            "align_self": null,
            "border": null,
            "bottom": null,
            "display": null,
            "flex": null,
            "flex_flow": null,
            "grid_area": null,
            "grid_auto_columns": null,
            "grid_auto_flow": null,
            "grid_auto_rows": null,
            "grid_column": null,
            "grid_gap": null,
            "grid_row": null,
            "grid_template_areas": null,
            "grid_template_columns": null,
            "grid_template_rows": null,
            "height": null,
            "justify_content": null,
            "justify_items": null,
            "left": null,
            "margin": null,
            "max_height": null,
            "max_width": null,
            "min_height": null,
            "min_width": null,
            "object_fit": null,
            "object_position": null,
            "order": null,
            "overflow": null,
            "overflow_x": null,
            "overflow_y": null,
            "padding": null,
            "right": null,
            "top": null,
            "visibility": null,
            "width": null
          }
        },
        "c683c8fabc474d4a96a3602b31c4c753": {
          "model_module": "@jupyter-widgets/controls",
          "model_module_version": "1.5.0",
          "model_name": "HTMLModel",
          "state": {
            "_dom_classes": [],
            "_model_module": "@jupyter-widgets/controls",
            "_model_module_version": "1.5.0",
            "_model_name": "HTMLModel",
            "_view_count": null,
            "_view_module": "@jupyter-widgets/controls",
            "_view_module_version": "1.5.0",
            "_view_name": "HTMLView",
            "description": "",
            "description_tooltip": null,
            "layout": "IPY_MODEL_5891615af2d24cca877ad10fc2149df9",
            "placeholder": "​",
            "style": "IPY_MODEL_b0d755c791cb480986fc736d8b92b8f4",
            "value": "  0%"
          }
        },
        "caf1c19d53914317b66a6fbb657c66a0": {
          "model_module": "@jupyter-widgets/base",
          "model_module_version": "1.2.0",
          "model_name": "LayoutModel",
          "state": {
            "_model_module": "@jupyter-widgets/base",
            "_model_module_version": "1.2.0",
            "_model_name": "LayoutModel",
            "_view_count": null,
            "_view_module": "@jupyter-widgets/base",
            "_view_module_version": "1.2.0",
            "_view_name": "LayoutView",
            "align_content": null,
            "align_items": null,
            "align_self": null,
            "border": null,
            "bottom": null,
            "display": null,
            "flex": null,
            "flex_flow": null,
            "grid_area": null,
            "grid_auto_columns": null,
            "grid_auto_flow": null,
            "grid_auto_rows": null,
            "grid_column": null,
            "grid_gap": null,
            "grid_row": null,
            "grid_template_areas": null,
            "grid_template_columns": null,
            "grid_template_rows": null,
            "height": null,
            "justify_content": null,
            "justify_items": null,
            "left": null,
            "margin": null,
            "max_height": null,
            "max_width": null,
            "min_height": null,
            "min_width": null,
            "object_fit": null,
            "object_position": null,
            "order": null,
            "overflow": null,
            "overflow_x": null,
            "overflow_y": null,
            "padding": null,
            "right": null,
            "top": null,
            "visibility": null,
            "width": null
          }
        },
        "d49daa46732a4977a7cd63c4d89ccd27": {
          "model_module": "@jupyter-widgets/base",
          "model_module_version": "1.2.0",
          "model_name": "LayoutModel",
          "state": {
            "_model_module": "@jupyter-widgets/base",
            "_model_module_version": "1.2.0",
            "_model_name": "LayoutModel",
            "_view_count": null,
            "_view_module": "@jupyter-widgets/base",
            "_view_module_version": "1.2.0",
            "_view_name": "LayoutView",
            "align_content": null,
            "align_items": null,
            "align_self": null,
            "border": null,
            "bottom": null,
            "display": null,
            "flex": null,
            "flex_flow": null,
            "grid_area": null,
            "grid_auto_columns": null,
            "grid_auto_flow": null,
            "grid_auto_rows": null,
            "grid_column": null,
            "grid_gap": null,
            "grid_row": null,
            "grid_template_areas": null,
            "grid_template_columns": null,
            "grid_template_rows": null,
            "height": null,
            "justify_content": null,
            "justify_items": null,
            "left": null,
            "margin": null,
            "max_height": null,
            "max_width": null,
            "min_height": null,
            "min_width": null,
            "object_fit": null,
            "object_position": null,
            "order": null,
            "overflow": null,
            "overflow_x": null,
            "overflow_y": null,
            "padding": null,
            "right": null,
            "top": null,
            "visibility": null,
            "width": null
          }
        },
        "e13cdf111d244a8b8bef08a9c32e44c3": {
          "model_module": "@jupyter-widgets/controls",
          "model_module_version": "1.5.0",
          "model_name": "HTMLModel",
          "state": {
            "_dom_classes": [],
            "_model_module": "@jupyter-widgets/controls",
            "_model_module_version": "1.5.0",
            "_model_name": "HTMLModel",
            "_view_count": null,
            "_view_module": "@jupyter-widgets/controls",
            "_view_module_version": "1.5.0",
            "_view_name": "HTMLView",
            "description": "",
            "description_tooltip": null,
            "layout": "IPY_MODEL_f2a880fda5e44a6aa42bb622ffb604ac",
            "placeholder": "​",
            "style": "IPY_MODEL_8c312a4027a247b683a1bba75db04ec8",
            "value": " 0/5 [00:00&lt;?, ?it/s]"
          }
        },
        "eb195a305b5a4cebb226da3535108656": {
          "model_module": "@jupyter-widgets/controls",
          "model_module_version": "1.5.0",
          "model_name": "DescriptionStyleModel",
          "state": {
            "_model_module": "@jupyter-widgets/controls",
            "_model_module_version": "1.5.0",
            "_model_name": "DescriptionStyleModel",
            "_view_count": null,
            "_view_module": "@jupyter-widgets/base",
            "_view_module_version": "1.2.0",
            "_view_name": "StyleView",
            "description_width": ""
          }
        },
        "f2a880fda5e44a6aa42bb622ffb604ac": {
          "model_module": "@jupyter-widgets/base",
          "model_module_version": "1.2.0",
          "model_name": "LayoutModel",
          "state": {
            "_model_module": "@jupyter-widgets/base",
            "_model_module_version": "1.2.0",
            "_model_name": "LayoutModel",
            "_view_count": null,
            "_view_module": "@jupyter-widgets/base",
            "_view_module_version": "1.2.0",
            "_view_name": "LayoutView",
            "align_content": null,
            "align_items": null,
            "align_self": null,
            "border": null,
            "bottom": null,
            "display": null,
            "flex": null,
            "flex_flow": null,
            "grid_area": null,
            "grid_auto_columns": null,
            "grid_auto_flow": null,
            "grid_auto_rows": null,
            "grid_column": null,
            "grid_gap": null,
            "grid_row": null,
            "grid_template_areas": null,
            "grid_template_columns": null,
            "grid_template_rows": null,
            "height": null,
            "justify_content": null,
            "justify_items": null,
            "left": null,
            "margin": null,
            "max_height": null,
            "max_width": null,
            "min_height": null,
            "min_width": null,
            "object_fit": null,
            "object_position": null,
            "order": null,
            "overflow": null,
            "overflow_x": null,
            "overflow_y": null,
            "padding": null,
            "right": null,
            "top": null,
            "visibility": null,
            "width": null
          }
        },
        "f92ba0f131654b2592c5ed0fb1c3dce6": {
          "model_module": "@jupyter-widgets/controls",
          "model_module_version": "1.5.0",
          "model_name": "HBoxModel",
          "state": {
            "_dom_classes": [],
            "_model_module": "@jupyter-widgets/controls",
            "_model_module_version": "1.5.0",
            "_model_name": "HBoxModel",
            "_view_count": null,
            "_view_module": "@jupyter-widgets/controls",
            "_view_module_version": "1.5.0",
            "_view_name": "HBoxView",
            "box_style": "",
            "children": [
              "IPY_MODEL_c683c8fabc474d4a96a3602b31c4c753",
              "IPY_MODEL_848a5d5f48674d3d9d1257967c642652",
              "IPY_MODEL_25b5cfc8466c4a288c70a08151322d5d"
            ],
            "layout": "IPY_MODEL_fec264864dfb4c6090075f12d4d3bc44"
          }
        },
        "f9320f10157343dbb17682a523d1e95f": {
          "model_module": "@jupyter-widgets/controls",
          "model_module_version": "1.5.0",
          "model_name": "FloatProgressModel",
          "state": {
            "_dom_classes": [],
            "_model_module": "@jupyter-widgets/controls",
            "_model_module_version": "1.5.0",
            "_model_name": "FloatProgressModel",
            "_view_count": null,
            "_view_module": "@jupyter-widgets/controls",
            "_view_module_version": "1.5.0",
            "_view_name": "ProgressView",
            "bar_style": "success",
            "description": "",
            "description_tooltip": null,
            "layout": "IPY_MODEL_af9d5938430145cc8388e5d7c8f9c481",
            "max": 100,
            "min": 0,
            "orientation": "horizontal",
            "style": "IPY_MODEL_54c4735e9fb2493782e0bca3de9f208e",
            "value": 100
          }
        },
        "fe1dc01b41434e11bfe4dfa101fb3eff": {
          "model_module": "@jupyter-widgets/controls",
          "model_module_version": "1.5.0",
          "model_name": "ProgressStyleModel",
          "state": {
            "_model_module": "@jupyter-widgets/controls",
            "_model_module_version": "1.5.0",
            "_model_name": "ProgressStyleModel",
            "_view_count": null,
            "_view_module": "@jupyter-widgets/base",
            "_view_module_version": "1.2.0",
            "_view_name": "StyleView",
            "bar_color": null,
            "description_width": ""
          }
        },
        "fec264864dfb4c6090075f12d4d3bc44": {
          "model_module": "@jupyter-widgets/base",
          "model_module_version": "1.2.0",
          "model_name": "LayoutModel",
          "state": {
            "_model_module": "@jupyter-widgets/base",
            "_model_module_version": "1.2.0",
            "_model_name": "LayoutModel",
            "_view_count": null,
            "_view_module": "@jupyter-widgets/base",
            "_view_module_version": "1.2.0",
            "_view_name": "LayoutView",
            "align_content": null,
            "align_items": null,
            "align_self": null,
            "border": null,
            "bottom": null,
            "display": null,
            "flex": null,
            "flex_flow": null,
            "grid_area": null,
            "grid_auto_columns": null,
            "grid_auto_flow": null,
            "grid_auto_rows": null,
            "grid_column": null,
            "grid_gap": null,
            "grid_row": null,
            "grid_template_areas": null,
            "grid_template_columns": null,
            "grid_template_rows": null,
            "height": null,
            "justify_content": null,
            "justify_items": null,
            "left": null,
            "margin": null,
            "max_height": null,
            "max_width": null,
            "min_height": null,
            "min_width": null,
            "object_fit": null,
            "object_position": null,
            "order": null,
            "overflow": null,
            "overflow_x": null,
            "overflow_y": null,
            "padding": null,
            "right": null,
            "top": null,
            "visibility": null,
            "width": null
          }
        }
      }
    }
  },
  "nbformat": 4,
  "nbformat_minor": 5
}
